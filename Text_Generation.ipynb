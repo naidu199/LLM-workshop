{
  "nbformat": 4,
  "nbformat_minor": 0,
  "metadata": {
    "colab": {
      "provenance": [],
      "gpuType": "T4",
      "include_colab_link": true
    },
    "kernelspec": {
      "name": "python3",
      "display_name": "Python 3"
    },
    "language_info": {
      "name": "python"
    },
    "accelerator": "GPU"
  },
  "cells": [
    {
      "cell_type": "markdown",
      "metadata": {
        "id": "view-in-github",
        "colab_type": "text"
      },
      "source": [
        "<a href=\"https://colab.research.google.com/github/naidu199/LLM-workshop/blob/main/Text_Generation.ipynb\" target=\"_parent\"><img src=\"https://colab.research.google.com/assets/colab-badge.svg\" alt=\"Open In Colab\"/></a>"
      ]
    },
    {
      "cell_type": "code",
      "source": [
        "import torch\n",
        "from torch import nn\n",
        "import torch.nn.functional as F\n",
        "from torch.autograd import Variable\n",
        "from itertools import islice"
      ],
      "metadata": {
        "id": "oLl4Nay9ojbM"
      },
      "execution_count": null,
      "outputs": []
    },
    {
      "cell_type": "code",
      "source": [
        "from google.colab import drive\n",
        "drive.mount('/content/drive')"
      ],
      "metadata": {
        "colab": {
          "base_uri": "https://localhost:8080/"
        },
        "id": "VSmRYKj1YDMc",
        "outputId": "8ebcc032-01ef-4e75-cc06-8d8edcdb93f4"
      },
      "execution_count": null,
      "outputs": [
        {
          "output_type": "stream",
          "name": "stdout",
          "text": [
            "Drive already mounted at /content/drive; to attempt to forcibly remount, call drive.mount(\"/content/drive\", force_remount=True).\n"
          ]
        }
      ]
    },
    {
      "cell_type": "code",
      "source": [
        "with open('/content/drive/MyDrive/FML_DATA_SETS/train-text.txt', \"r\", encoding='utf-8') as f:\n",
        "    text = f.read()"
      ],
      "metadata": {
        "id": "T8mVkm4LpPj1"
      },
      "execution_count": null,
      "outputs": []
    },
    {
      "cell_type": "code",
      "source": [
        "len(text)"
      ],
      "metadata": {
        "colab": {
          "base_uri": "https://localhost:8080/"
        },
        "id": "PJOB5-egpU_W",
        "outputId": "3f022239-8df4-4933-93d4-297b3b6e0633"
      },
      "execution_count": null,
      "outputs": [
        {
          "output_type": "execute_result",
          "data": {
            "text/plain": [
              "495106"
            ]
          },
          "metadata": {},
          "execution_count": 6
        }
      ]
    },
    {
      "cell_type": "code",
      "source": [
        "import nltk\n",
        "nltk.download('punkt')"
      ],
      "metadata": {
        "colab": {
          "base_uri": "https://localhost:8080/"
        },
        "id": "GZCc5OG0piqT",
        "outputId": "a98ecad8-6d40-4826-be3e-e1bc6c984e9f"
      },
      "execution_count": null,
      "outputs": [
        {
          "output_type": "stream",
          "name": "stderr",
          "text": [
            "[nltk_data] Downloading package punkt to /root/nltk_data...\n",
            "[nltk_data]   Unzipping tokenizers/punkt.zip.\n"
          ]
        },
        {
          "output_type": "execute_result",
          "data": {
            "text/plain": [
              "True"
            ]
          },
          "metadata": {},
          "execution_count": 7
        }
      ]
    },
    {
      "cell_type": "code",
      "source": [
        "from nltk.tokenize import word_tokenize"
      ],
      "metadata": {
        "id": "Eqf8NN_3pXTN"
      },
      "execution_count": null,
      "outputs": []
    },
    {
      "cell_type": "code",
      "source": [
        "tokens = word_tokenize(text)"
      ],
      "metadata": {
        "id": "RkyhhSyEpaS5"
      },
      "execution_count": null,
      "outputs": []
    },
    {
      "cell_type": "code",
      "source": [
        "len(tokens)"
      ],
      "metadata": {
        "colab": {
          "base_uri": "https://localhost:8080/"
        },
        "id": "mDALd5R3pfsb",
        "outputId": "da796c8f-c25c-4d82-eb80-e7add3b824d6"
      },
      "execution_count": null,
      "outputs": [
        {
          "output_type": "execute_result",
          "data": {
            "text/plain": [
              "102328"
            ]
          },
          "metadata": {},
          "execution_count": 10
        }
      ]
    },
    {
      "cell_type": "code",
      "source": [
        "vocab = sorted(set(tokens))"
      ],
      "metadata": {
        "id": "ZvamNHvWpokb"
      },
      "execution_count": null,
      "outputs": []
    },
    {
      "cell_type": "code",
      "source": [
        "len(vocab)"
      ],
      "metadata": {
        "colab": {
          "base_uri": "https://localhost:8080/"
        },
        "id": "6ffKtlz9pren",
        "outputId": "cde08db5-da86-4dcf-b62f-3b448deaba5f"
      },
      "execution_count": null,
      "outputs": [
        {
          "output_type": "execute_result",
          "data": {
            "text/plain": [
              "9433"
            ]
          },
          "metadata": {},
          "execution_count": 12
        }
      ]
    },
    {
      "cell_type": "code",
      "source": [
        "vocab = [\"<PAD>\", \"<UNK>\"] + vocab"
      ],
      "metadata": {
        "id": "JoWMQCmcpy5H"
      },
      "execution_count": null,
      "outputs": []
    },
    {
      "cell_type": "code",
      "source": [
        "len(vocab)"
      ],
      "metadata": {
        "colab": {
          "base_uri": "https://localhost:8080/"
        },
        "id": "eVtEc0uJqF8A",
        "outputId": "ddd9e268-1ba2-4ba4-d513-4a774d0ec1bb"
      },
      "execution_count": null,
      "outputs": [
        {
          "output_type": "execute_result",
          "data": {
            "text/plain": [
              "9435"
            ]
          },
          "metadata": {},
          "execution_count": 14
        }
      ]
    },
    {
      "cell_type": "code",
      "source": [
        "vocab[:10]"
      ],
      "metadata": {
        "colab": {
          "base_uri": "https://localhost:8080/"
        },
        "id": "xfu0YVtsqHmE",
        "outputId": "33e8e6e8-a8e3-4caf-9b48-69c864739515"
      },
      "execution_count": null,
      "outputs": [
        {
          "output_type": "execute_result",
          "data": {
            "text/plain": [
              "['<PAD>', '<UNK>', '!', '#', '$', '%', '&', \"'\", \"''\", \"'Are\"]"
            ]
          },
          "metadata": {},
          "execution_count": 15
        }
      ]
    },
    {
      "cell_type": "code",
      "source": [
        "context_size = 5\n",
        "import random"
      ],
      "metadata": {
        "id": "a9tLWdf5qKf3"
      },
      "execution_count": null,
      "outputs": []
    },
    {
      "cell_type": "code",
      "source": [
        "start = random.randint(0, len(tokens)-context_size)"
      ],
      "metadata": {
        "id": "D96r5QfSqwGg"
      },
      "execution_count": null,
      "outputs": []
    },
    {
      "cell_type": "code",
      "source": [
        "tokens[start:start+context_size]"
      ],
      "metadata": {
        "colab": {
          "base_uri": "https://localhost:8080/"
        },
        "id": "7SdXXZ7oqgBS",
        "outputId": "4281c1e1-f77e-4dc2-ada5-65a4f884027c"
      },
      "execution_count": null,
      "outputs": [
        {
          "output_type": "execute_result",
          "data": {
            "text/plain": [
              "['bless', 'you', ',', 'my', 'dear']"
            ]
          },
          "metadata": {},
          "execution_count": 18
        }
      ]
    },
    {
      "cell_type": "code",
      "source": [
        "tokens[start + context_size]"
      ],
      "metadata": {
        "colab": {
          "base_uri": "https://localhost:8080/",
          "height": 35
        },
        "id": "l1HGw41Fqn42",
        "outputId": "8896bf39-d087-4830-86a6-daf52addaaa6"
      },
      "execution_count": null,
      "outputs": [
        {
          "output_type": "execute_result",
          "data": {
            "text/plain": [
              "'child'"
            ],
            "application/vnd.google.colaboratory.intrinsic+json": {
              "type": "string"
            }
          },
          "metadata": {},
          "execution_count": 19
        }
      ]
    },
    {
      "cell_type": "code",
      "source": [
        "# Assuming \"tokens\" is your tokenized text\n",
        "token_to_idx = {token: idx for idx, token in enumerate(vocab)}\n",
        "\n",
        "# Now you can convert your tokens to indices\n",
        "tokens_idx = [token_to_idx[token] for token in tokens]"
      ],
      "metadata": {
        "id": "Ax5RkFNzqtte"
      },
      "execution_count": null,
      "outputs": []
    },
    {
      "cell_type": "code",
      "source": [
        "from torch.utils.data import Dataset, DataLoader\n",
        "from torch.utils.data.dataset import random_split\n",
        "import torch\n",
        "\n",
        "class TextNgramDataset(Dataset):\n",
        "  def __init__(self, data, n):\n",
        "    self.data = data\n",
        "    self.n = n\n",
        "\n",
        "  def __len__(self):\n",
        "    return len(self.data) - self.n\n",
        "\n",
        "  def __getitem__(self, index):\n",
        "    return (self.data[index: index+self.n], self.data[self.n + index])\n",
        "\n",
        "CONTEXT_SIZE = 5  # this is your n-gram size\n",
        "\n",
        "dataset = TextNgramDataset(tokens_idx, CONTEXT_SIZE)\n",
        "\n",
        "train_size = int(0.8 * len(dataset))  # 80% for training\n",
        "test_size = len(dataset) - train_size  # 20% for testing\n",
        "\n",
        "train_dataset, test_dataset = random_split(dataset, [train_size, test_size])\n",
        "\n",
        "# Define batch size\n",
        "batch_size = 32\n",
        "\n",
        "def collate_fn(batch):\n",
        "    sequences = [item[0] for item in batch]\n",
        "    targets = [item[1] for item in batch]\n",
        "\n",
        "    # Convert the lists to tensors\n",
        "    sequences = torch.tensor(sequences, dtype=torch.long)\n",
        "    targets = torch.tensor(targets, dtype=torch.long)\n",
        "\n",
        "    return sequences, targets\n",
        "\n",
        "# Create dataloaders\n",
        "train_dataloader = DataLoader(train_dataset, batch_size=32, shuffle=True, collate_fn=collate_fn)\n",
        "test_dataloader = DataLoader(test_dataset, batch_size=32, shuffle=False, collate_fn=collate_fn)"
      ],
      "metadata": {
        "id": "4Tfw4sX0q-k_"
      },
      "execution_count": null,
      "outputs": []
    },
    {
      "cell_type": "code",
      "source": [
        "x, y = next(iter(train_dataloader))"
      ],
      "metadata": {
        "id": "AOqSaWpusIO0"
      },
      "execution_count": null,
      "outputs": []
    },
    {
      "cell_type": "code",
      "source": [
        "x.shape"
      ],
      "metadata": {
        "colab": {
          "base_uri": "https://localhost:8080/"
        },
        "id": "jtLxdI9ntHIK",
        "outputId": "f1cb134b-7364-478d-b637-cb7ce2f44aea"
      },
      "execution_count": null,
      "outputs": [
        {
          "output_type": "execute_result",
          "data": {
            "text/plain": [
              "torch.Size([32, 5])"
            ]
          },
          "metadata": {},
          "execution_count": 23
        }
      ]
    },
    {
      "cell_type": "code",
      "source": [
        "y.shape"
      ],
      "metadata": {
        "colab": {
          "base_uri": "https://localhost:8080/"
        },
        "id": "xxq37hKZtIWu",
        "outputId": "3a74eb64-4da4-4647-d2bc-a0d0551072dd"
      },
      "execution_count": null,
      "outputs": [
        {
          "output_type": "execute_result",
          "data": {
            "text/plain": [
              "torch.Size([32])"
            ]
          },
          "metadata": {},
          "execution_count": 24
        }
      ]
    },
    {
      "cell_type": "code",
      "source": [
        "import torch.optim as optim\n",
        "import matplotlib.pyplot as plt\n",
        "import torch.nn as nn\n",
        "\n",
        "class NGramLanguageModel(nn.Module):\n",
        "    def __init__(self, vocab_size, embedding_dim, context_size, hidden_size=32):\n",
        "        super(NGramLanguageModel, self).__init__()\n",
        "        self.embeddings = nn.Embedding(vocab_size, embedding_dim) # B,C,V => B,C,D\n",
        "        self.linear1 = nn.Linear(context_size * embedding_dim, hidden_size) #CxD -> 128\n",
        "        self.linear2 = nn.Linear(hidden_size, vocab_size) # 128 -> V\n",
        "        self.lnorm = nn.LayerNorm(hidden_size)\n",
        "\n",
        "    def forward(self, inputs):\n",
        "        embeds = self.embeddings(inputs).view((inputs.shape[0], -1)) #B, C*D\n",
        "        out = F.relu(self.lnorm(self.linear1(embeds)))\n",
        "        out = self.linear2(out)\n",
        "        log_probs = F.log_softmax(out, dim=1)\n",
        "        return log_probs"
      ],
      "metadata": {
        "id": "bWntZkxMtKhH"
      },
      "execution_count": null,
      "outputs": []
    },
    {
      "cell_type": "code",
      "source": [
        "VOCAB_SIZE = len(vocab)\n",
        "EMBEDDING_DIM = 20\n",
        "\n",
        "model = NGramLanguageModel(VOCAB_SIZE, EMBEDDING_DIM, CONTEXT_SIZE)\n",
        "criterion = nn.NLLLoss()\n",
        "optimizer = optim.AdamW(model.parameters(), lr=0.01, weight_decay=0.001)\n",
        "#optimizer = optim.SGD(model.parameters(), lr=0.001)\n",
        "\n",
        "device = torch.device('cuda' if torch.cuda.is_available() else 'cpu')\n",
        "model = model.to(device)"
      ],
      "metadata": {
        "id": "Z690MSGduXQw"
      },
      "execution_count": null,
      "outputs": []
    },
    {
      "cell_type": "code",
      "source": [
        "import numpy as np\n",
        "\n",
        "num_epochs = 50\n",
        "\n",
        "# initialize the losses\n",
        "train_losses = []\n",
        "test_losses = []\n",
        "\n",
        "# Training loop\n",
        "for epoch in range(num_epochs):\n",
        "    model.train()  # set the model to training mode\n",
        "    total_train_loss = 0\n",
        "    for context, target in train_dataloader:\n",
        "\n",
        "        # Preparing the inputs and targets\n",
        "        context_idxs = context.to(device)\n",
        "        target = target.to(device)\n",
        "\n",
        "        # Resetting the gradients\n",
        "        model.zero_grad()\n",
        "\n",
        "        # Forward pass\n",
        "        log_probs = model(context_idxs)\n",
        "\n",
        "        # Calculating loss\n",
        "        loss = criterion(log_probs, target)\n",
        "\n",
        "        # Backward pass\n",
        "        loss.backward()\n",
        "\n",
        "        # Optimizer step\n",
        "        optimizer.step()\n",
        "\n",
        "        # Update total_loss\n",
        "        total_train_loss += loss.item()\n",
        "\n",
        "    train_losses.append(total_train_loss)\n",
        "\n",
        "    # Test phase\n",
        "    model.eval()  # set the model to eval mode\n",
        "    total_test_loss = 0\n",
        "    with torch.no_grad():\n",
        "        for context, target in test_dataloader:\n",
        "            context_idxs = context.to(device)\n",
        "            target = target.to(device)\n",
        "\n",
        "            # Forward pass\n",
        "            log_probs = model(context_idxs)\n",
        "\n",
        "            # Calculating loss\n",
        "            loss = criterion(log_probs, target)\n",
        "\n",
        "            # Update total_loss\n",
        "            total_test_loss += loss.item()\n",
        "\n",
        "    test_losses.append(total_test_loss)\n",
        "\n",
        "    print(f\"Epoch: {epoch}, Training Loss: {total_train_loss}, Test Loss: {total_test_loss}\")\n",
        "\n",
        "# Plotting the train and test loss per epoch\n",
        "plt.plot(train_losses, label='Train Loss')\n",
        "plt.plot(test_losses, label='Test Loss')\n",
        "plt.xlabel('Epoch')\n",
        "plt.ylabel('Loss')\n",
        "plt.title('Training and Test Loss per Epoch')\n",
        "plt.grid(True)\n",
        "plt.legend()\n",
        "plt.show()\n"
      ],
      "metadata": {
        "colab": {
          "base_uri": "https://localhost:8080/",
          "height": 1000
        },
        "id": "GJ3DKnfLuqy-",
        "outputId": "36cf1a74-3a72-45db-b9d1-19d64351315a"
      },
      "execution_count": null,
      "outputs": [
        {
          "output_type": "stream",
          "name": "stdout",
          "text": [
            "Epoch: 0, Training Loss: 16100.890311479568, Test Loss: 3817.3221282958984\n",
            "Epoch: 1, Training Loss: 13927.685759425163, Test Loss: 3767.309943675995\n",
            "Epoch: 2, Training Loss: 12623.399645805359, Test Loss: 3846.186474084854\n",
            "Epoch: 3, Training Loss: 11538.200837373734, Test Loss: 4006.3215069770813\n",
            "Epoch: 4, Training Loss: 10689.043369293213, Test Loss: 4342.9251000881195\n",
            "Epoch: 5, Training Loss: 10035.870598316193, Test Loss: 4627.811765670776\n",
            "Epoch: 6, Training Loss: 9541.126472592354, Test Loss: 4865.998116731644\n",
            "Epoch: 7, Training Loss: 9161.631756067276, Test Loss: 5036.954302310944\n",
            "Epoch: 8, Training Loss: 8863.520859479904, Test Loss: 5227.048992156982\n",
            "Epoch: 9, Training Loss: 8608.69801068306, Test Loss: 5435.872621536255\n",
            "Epoch: 10, Training Loss: 8415.67762041092, Test Loss: 5641.1551394462585\n",
            "Epoch: 11, Training Loss: 8232.559583187103, Test Loss: 5656.688293457031\n",
            "Epoch: 12, Training Loss: 8074.087993979454, Test Loss: 5824.4730060100555\n",
            "Epoch: 13, Training Loss: 7940.649458408356, Test Loss: 5951.625535964966\n",
            "Epoch: 14, Training Loss: 7819.887616157532, Test Loss: 6147.689297676086\n",
            "Epoch: 15, Training Loss: 7712.46191239357, Test Loss: 6108.37791633606\n",
            "Epoch: 16, Training Loss: 7602.599535822868, Test Loss: 6174.224623203278\n",
            "Epoch: 17, Training Loss: 7516.523561835289, Test Loss: 6335.159225940704\n",
            "Epoch: 18, Training Loss: 7443.1656057834625, Test Loss: 6462.065453529358\n",
            "Epoch: 19, Training Loss: 7347.1210914850235, Test Loss: 6440.190749168396\n",
            "Epoch: 20, Training Loss: 7286.169208407402, Test Loss: 6562.678615093231\n",
            "Epoch: 21, Training Loss: 7219.027192234993, Test Loss: 6697.2483286857605\n",
            "Epoch: 22, Training Loss: 7158.641803026199, Test Loss: 6679.203737735748\n",
            "Epoch: 23, Training Loss: 7112.5849286317825, Test Loss: 6817.709428787231\n",
            "Epoch: 24, Training Loss: 7048.368804931641, Test Loss: 6918.954765796661\n",
            "Epoch: 25, Training Loss: 6999.173067212105, Test Loss: 6872.426064968109\n",
            "Epoch: 26, Training Loss: 6944.323749780655, Test Loss: 6948.402535915375\n",
            "Epoch: 27, Training Loss: 6901.80515730381, Test Loss: 7012.395127296448\n",
            "Epoch: 28, Training Loss: 6867.5511639118195, Test Loss: 7081.975566864014\n",
            "Epoch: 29, Training Loss: 6829.659303545952, Test Loss: 7081.167067050934\n",
            "Epoch: 30, Training Loss: 6787.296839118004, Test Loss: 7091.697907924652\n",
            "Epoch: 31, Training Loss: 6735.495180130005, Test Loss: 7301.926726818085\n",
            "Epoch: 32, Training Loss: 6708.9904544353485, Test Loss: 7248.24177980423\n",
            "Epoch: 33, Training Loss: 6676.413257479668, Test Loss: 7163.620599746704\n",
            "Epoch: 34, Training Loss: 6661.410001158714, Test Loss: 7331.712760448456\n",
            "Epoch: 35, Training Loss: 6628.597886323929, Test Loss: 7409.012399673462\n",
            "Epoch: 36, Training Loss: 6587.324871063232, Test Loss: 7469.262836456299\n",
            "Epoch: 37, Training Loss: 6575.080868721008, Test Loss: 7360.030773162842\n",
            "Epoch: 38, Training Loss: 6532.3540778160095, Test Loss: 7516.003386497498\n",
            "Epoch: 39, Training Loss: 6500.712572932243, Test Loss: 7435.850622653961\n",
            "Epoch: 40, Training Loss: 6480.521427989006, Test Loss: 7591.972384929657\n",
            "Epoch: 41, Training Loss: 6453.257435679436, Test Loss: 7530.141503334045\n",
            "Epoch: 42, Training Loss: 6427.985199809074, Test Loss: 7732.209985733032\n",
            "Epoch: 43, Training Loss: 6413.235203385353, Test Loss: 7708.301103591919\n",
            "Epoch: 44, Training Loss: 6397.312853574753, Test Loss: 7664.7149868011475\n",
            "Epoch: 45, Training Loss: 6361.6962250471115, Test Loss: 7728.234826087952\n",
            "Epoch: 46, Training Loss: 6355.493802070618, Test Loss: 7698.319822311401\n",
            "Epoch: 47, Training Loss: 6332.269019007683, Test Loss: 7810.875368595123\n",
            "Epoch: 48, Training Loss: 6305.066872358322, Test Loss: 7852.417892932892\n",
            "Epoch: 49, Training Loss: 6298.5372623205185, Test Loss: 7850.541669368744\n"
          ]
        },
        {
          "output_type": "display_data",
          "data": {
            "text/plain": [
              "<Figure size 640x480 with 1 Axes>"
            ],
            "image/png": "[encoded data removed]"
          },
          "metadata": {}
        }
      ]
    },
    {
      "cell_type": "code",
      "source": [
        "# Assuming \"tokens\" is your tokenized text\n",
        "device = torch.device('cuda' if torch.cuda.is_available() else 'cpu')\n",
        "idx_to_token = {idx: token for idx, token in enumerate(vocab)}\n",
        "k = 5\n",
        "def generate_text(model, start_text, generate_length=100):\n",
        "    words = word_tokenize(start_text)\n",
        "    model.eval()  # put the model in evaluation mode\n",
        "\n",
        "    for i in range(generate_length):\n",
        "        # Create a tensor for the current sequence of words (removing the first word if the length is over the context size)\n",
        "        input_sequence = torch.tensor([token_to_idx[word] for word in words[-CONTEXT_SIZE:]], dtype=torch.long).unsqueeze(0).to(device)\n",
        "\n",
        "        # Predict the next word using the current sequence, and get the last word of the output\n",
        "        with torch.no_grad():\n",
        "            #prediction = model(input_sequence).argmax(dim=1).item()\n",
        "            probabilities = torch.nn.functional.softmax(model(input_sequence), dim=1)\n",
        "            top_probs, top_indices = probabilities.topk(k)\n",
        "\n",
        "            # Make sure they're 1-D lists\n",
        "            top_probs = top_probs.squeeze()\n",
        "            top_indices = top_indices.squeeze()\n",
        "\n",
        "            # Choose one of the top k predicted words randomly as per their probabilities\n",
        "            choice = random.choices(top_indices.tolist(), weights=top_probs.tolist(), k=1)[0]\n",
        "            next_word = idx_to_token[choice]\n",
        "            #next_word = idx_to_token[prediction]\n",
        "\n",
        "        # Add the predicted word to the sequence\n",
        "        words.append(next_word)\n",
        "    return ' '.join(words)\n",
        "\n",
        "start_text = \" is a beautiful day\"\n",
        "print(generate_text(model, start_text))"
      ],
      "metadata": {
        "colab": {
          "base_uri": "https://localhost:8080/",
          "height": 321
        },
        "id": "sNhc2w_BveEY",
        "outputId": "27ffdae1-f338-453b-b979-663a77645bcf"
      },
      "execution_count": null,
      "outputs": [
        {
          "output_type": "error",
          "ename": "RuntimeError",
          "evalue": "mat1 and mat2 shapes cannot be multiplied (1x80 and 100x32)",
          "traceback": [
            "\u001b[0;31m---------------------------------------------------------------------------\u001b[0m",
            "\u001b[0;31mRuntimeError\u001b[0m                              Traceback (most recent call last)",
            "\u001b[0;32m<ipython-input-29-b84a144e230d>\u001b[0m in \u001b[0;36m<cell line: 33>\u001b[0;34m()\u001b[0m\n\u001b[1;32m     31\u001b[0m \u001b[0;34m\u001b[0m\u001b[0m\n\u001b[1;32m     32\u001b[0m \u001b[0mstart_text\u001b[0m \u001b[0;34m=\u001b[0m \u001b[0;34m\" is a beautiful day\"\u001b[0m\u001b[0;34m\u001b[0m\u001b[0;34m\u001b[0m\u001b[0m\n\u001b[0;32m---> 33\u001b[0;31m \u001b[0mprint\u001b[0m\u001b[0;34m(\u001b[0m\u001b[0mgenerate_text\u001b[0m\u001b[0;34m(\u001b[0m\u001b[0mmodel\u001b[0m\u001b[0;34m,\u001b[0m \u001b[0mstart_text\u001b[0m\u001b[0;34m)\u001b[0m\u001b[0;34m)\u001b[0m\u001b[0;34m\u001b[0m\u001b[0;34m\u001b[0m\u001b[0m\n\u001b[0m",
            "\u001b[0;32m<ipython-input-29-b84a144e230d>\u001b[0m in \u001b[0;36mgenerate_text\u001b[0;34m(model, start_text, generate_length)\u001b[0m\n\u001b[1;32m     14\u001b[0m         \u001b[0;32mwith\u001b[0m \u001b[0mtorch\u001b[0m\u001b[0;34m.\u001b[0m\u001b[0mno_grad\u001b[0m\u001b[0;34m(\u001b[0m\u001b[0;34m)\u001b[0m\u001b[0;34m:\u001b[0m\u001b[0;34m\u001b[0m\u001b[0;34m\u001b[0m\u001b[0m\n\u001b[1;32m     15\u001b[0m             \u001b[0;31m#prediction = model(input_sequence).argmax(dim=1).item()\u001b[0m\u001b[0;34m\u001b[0m\u001b[0;34m\u001b[0m\u001b[0m\n\u001b[0;32m---> 16\u001b[0;31m             \u001b[0mprobabilities\u001b[0m \u001b[0;34m=\u001b[0m \u001b[0mtorch\u001b[0m\u001b[0;34m.\u001b[0m\u001b[0mnn\u001b[0m\u001b[0;34m.\u001b[0m\u001b[0mfunctional\u001b[0m\u001b[0;34m.\u001b[0m\u001b[0msoftmax\u001b[0m\u001b[0;34m(\u001b[0m\u001b[0mmodel\u001b[0m\u001b[0;34m(\u001b[0m\u001b[0minput_sequence\u001b[0m\u001b[0;34m)\u001b[0m\u001b[0;34m,\u001b[0m \u001b[0mdim\u001b[0m\u001b[0;34m=\u001b[0m\u001b[0;36m1\u001b[0m\u001b[0;34m)\u001b[0m\u001b[0;34m\u001b[0m\u001b[0;34m\u001b[0m\u001b[0m\n\u001b[0m\u001b[1;32m     17\u001b[0m             \u001b[0mtop_probs\u001b[0m\u001b[0;34m,\u001b[0m \u001b[0mtop_indices\u001b[0m \u001b[0;34m=\u001b[0m \u001b[0mprobabilities\u001b[0m\u001b[0;34m.\u001b[0m\u001b[0mtopk\u001b[0m\u001b[0;34m(\u001b[0m\u001b[0mk\u001b[0m\u001b[0;34m)\u001b[0m\u001b[0;34m\u001b[0m\u001b[0;34m\u001b[0m\u001b[0m\n\u001b[1;32m     18\u001b[0m \u001b[0;34m\u001b[0m\u001b[0m\n",
            "\u001b[0;32m/usr/local/lib/python3.10/dist-packages/torch/nn/modules/module.py\u001b[0m in \u001b[0;36m_wrapped_call_impl\u001b[0;34m(self, *args, **kwargs)\u001b[0m\n\u001b[1;32m   1509\u001b[0m             \u001b[0;32mreturn\u001b[0m \u001b[0mself\u001b[0m\u001b[0;34m.\u001b[0m\u001b[0m_compiled_call_impl\u001b[0m\u001b[0;34m(\u001b[0m\u001b[0;34m*\u001b[0m\u001b[0margs\u001b[0m\u001b[0;34m,\u001b[0m \u001b[0;34m**\u001b[0m\u001b[0mkwargs\u001b[0m\u001b[0;34m)\u001b[0m  \u001b[0;31m# type: ignore[misc]\u001b[0m\u001b[0;34m\u001b[0m\u001b[0;34m\u001b[0m\u001b[0m\n\u001b[1;32m   1510\u001b[0m         \u001b[0;32melse\u001b[0m\u001b[0;34m:\u001b[0m\u001b[0;34m\u001b[0m\u001b[0;34m\u001b[0m\u001b[0m\n\u001b[0;32m-> 1511\u001b[0;31m             \u001b[0;32mreturn\u001b[0m \u001b[0mself\u001b[0m\u001b[0;34m.\u001b[0m\u001b[0m_call_impl\u001b[0m\u001b[0;34m(\u001b[0m\u001b[0;34m*\u001b[0m\u001b[0margs\u001b[0m\u001b[0;34m,\u001b[0m \u001b[0;34m**\u001b[0m\u001b[0mkwargs\u001b[0m\u001b[0;34m)\u001b[0m\u001b[0;34m\u001b[0m\u001b[0;34m\u001b[0m\u001b[0m\n\u001b[0m\u001b[1;32m   1512\u001b[0m \u001b[0;34m\u001b[0m\u001b[0m\n\u001b[1;32m   1513\u001b[0m     \u001b[0;32mdef\u001b[0m \u001b[0m_call_impl\u001b[0m\u001b[0;34m(\u001b[0m\u001b[0mself\u001b[0m\u001b[0;34m,\u001b[0m \u001b[0;34m*\u001b[0m\u001b[0margs\u001b[0m\u001b[0;34m,\u001b[0m \u001b[0;34m**\u001b[0m\u001b[0mkwargs\u001b[0m\u001b[0;34m)\u001b[0m\u001b[0;34m:\u001b[0m\u001b[0;34m\u001b[0m\u001b[0;34m\u001b[0m\u001b[0m\n",
            "\u001b[0;32m/usr/local/lib/python3.10/dist-packages/torch/nn/modules/module.py\u001b[0m in \u001b[0;36m_call_impl\u001b[0;34m(self, *args, **kwargs)\u001b[0m\n\u001b[1;32m   1518\u001b[0m                 \u001b[0;32mor\u001b[0m \u001b[0m_global_backward_pre_hooks\u001b[0m \u001b[0;32mor\u001b[0m \u001b[0m_global_backward_hooks\u001b[0m\u001b[0;34m\u001b[0m\u001b[0;34m\u001b[0m\u001b[0m\n\u001b[1;32m   1519\u001b[0m                 or _global_forward_hooks or _global_forward_pre_hooks):\n\u001b[0;32m-> 1520\u001b[0;31m             \u001b[0;32mreturn\u001b[0m \u001b[0mforward_call\u001b[0m\u001b[0;34m(\u001b[0m\u001b[0;34m*\u001b[0m\u001b[0margs\u001b[0m\u001b[0;34m,\u001b[0m \u001b[0;34m**\u001b[0m\u001b[0mkwargs\u001b[0m\u001b[0;34m)\u001b[0m\u001b[0;34m\u001b[0m\u001b[0;34m\u001b[0m\u001b[0m\n\u001b[0m\u001b[1;32m   1521\u001b[0m \u001b[0;34m\u001b[0m\u001b[0m\n\u001b[1;32m   1522\u001b[0m         \u001b[0;32mtry\u001b[0m\u001b[0;34m:\u001b[0m\u001b[0;34m\u001b[0m\u001b[0;34m\u001b[0m\u001b[0m\n",
            "\u001b[0;32m<ipython-input-25-68c257475ff9>\u001b[0m in \u001b[0;36mforward\u001b[0;34m(self, inputs)\u001b[0m\n\u001b[1;32m     13\u001b[0m     \u001b[0;32mdef\u001b[0m \u001b[0mforward\u001b[0m\u001b[0;34m(\u001b[0m\u001b[0mself\u001b[0m\u001b[0;34m,\u001b[0m \u001b[0minputs\u001b[0m\u001b[0;34m)\u001b[0m\u001b[0;34m:\u001b[0m\u001b[0;34m\u001b[0m\u001b[0;34m\u001b[0m\u001b[0m\n\u001b[1;32m     14\u001b[0m         \u001b[0membeds\u001b[0m \u001b[0;34m=\u001b[0m \u001b[0mself\u001b[0m\u001b[0;34m.\u001b[0m\u001b[0membeddings\u001b[0m\u001b[0;34m(\u001b[0m\u001b[0minputs\u001b[0m\u001b[0;34m)\u001b[0m\u001b[0;34m.\u001b[0m\u001b[0mview\u001b[0m\u001b[0;34m(\u001b[0m\u001b[0;34m(\u001b[0m\u001b[0minputs\u001b[0m\u001b[0;34m.\u001b[0m\u001b[0mshape\u001b[0m\u001b[0;34m[\u001b[0m\u001b[0;36m0\u001b[0m\u001b[0;34m]\u001b[0m\u001b[0;34m,\u001b[0m \u001b[0;34m-\u001b[0m\u001b[0;36m1\u001b[0m\u001b[0;34m)\u001b[0m\u001b[0;34m)\u001b[0m \u001b[0;31m#B, C*D\u001b[0m\u001b[0;34m\u001b[0m\u001b[0;34m\u001b[0m\u001b[0m\n\u001b[0;32m---> 15\u001b[0;31m         \u001b[0mout\u001b[0m \u001b[0;34m=\u001b[0m \u001b[0mF\u001b[0m\u001b[0;34m.\u001b[0m\u001b[0mrelu\u001b[0m\u001b[0;34m(\u001b[0m\u001b[0mself\u001b[0m\u001b[0;34m.\u001b[0m\u001b[0mlnorm\u001b[0m\u001b[0;34m(\u001b[0m\u001b[0mself\u001b[0m\u001b[0;34m.\u001b[0m\u001b[0mlinear1\u001b[0m\u001b[0;34m(\u001b[0m\u001b[0membeds\u001b[0m\u001b[0;34m)\u001b[0m\u001b[0;34m)\u001b[0m\u001b[0;34m)\u001b[0m\u001b[0;34m\u001b[0m\u001b[0;34m\u001b[0m\u001b[0m\n\u001b[0m\u001b[1;32m     16\u001b[0m         \u001b[0mout\u001b[0m \u001b[0;34m=\u001b[0m \u001b[0mself\u001b[0m\u001b[0;34m.\u001b[0m\u001b[0mlinear2\u001b[0m\u001b[0;34m(\u001b[0m\u001b[0mout\u001b[0m\u001b[0;34m)\u001b[0m\u001b[0;34m\u001b[0m\u001b[0;34m\u001b[0m\u001b[0m\n\u001b[1;32m     17\u001b[0m         \u001b[0mlog_probs\u001b[0m \u001b[0;34m=\u001b[0m \u001b[0mF\u001b[0m\u001b[0;34m.\u001b[0m\u001b[0mlog_softmax\u001b[0m\u001b[0;34m(\u001b[0m\u001b[0mout\u001b[0m\u001b[0;34m,\u001b[0m \u001b[0mdim\u001b[0m\u001b[0;34m=\u001b[0m\u001b[0;36m1\u001b[0m\u001b[0;34m)\u001b[0m\u001b[0;34m\u001b[0m\u001b[0;34m\u001b[0m\u001b[0m\n",
            "\u001b[0;32m/usr/local/lib/python3.10/dist-packages/torch/nn/modules/module.py\u001b[0m in \u001b[0;36m_wrapped_call_impl\u001b[0;34m(self, *args, **kwargs)\u001b[0m\n\u001b[1;32m   1509\u001b[0m             \u001b[0;32mreturn\u001b[0m \u001b[0mself\u001b[0m\u001b[0;34m.\u001b[0m\u001b[0m_compiled_call_impl\u001b[0m\u001b[0;34m(\u001b[0m\u001b[0;34m*\u001b[0m\u001b[0margs\u001b[0m\u001b[0;34m,\u001b[0m \u001b[0;34m**\u001b[0m\u001b[0mkwargs\u001b[0m\u001b[0;34m)\u001b[0m  \u001b[0;31m# type: ignore[misc]\u001b[0m\u001b[0;34m\u001b[0m\u001b[0;34m\u001b[0m\u001b[0m\n\u001b[1;32m   1510\u001b[0m         \u001b[0;32melse\u001b[0m\u001b[0;34m:\u001b[0m\u001b[0;34m\u001b[0m\u001b[0;34m\u001b[0m\u001b[0m\n\u001b[0;32m-> 1511\u001b[0;31m             \u001b[0;32mreturn\u001b[0m \u001b[0mself\u001b[0m\u001b[0;34m.\u001b[0m\u001b[0m_call_impl\u001b[0m\u001b[0;34m(\u001b[0m\u001b[0;34m*\u001b[0m\u001b[0margs\u001b[0m\u001b[0;34m,\u001b[0m \u001b[0;34m**\u001b[0m\u001b[0mkwargs\u001b[0m\u001b[0;34m)\u001b[0m\u001b[0;34m\u001b[0m\u001b[0;34m\u001b[0m\u001b[0m\n\u001b[0m\u001b[1;32m   1512\u001b[0m \u001b[0;34m\u001b[0m\u001b[0m\n\u001b[1;32m   1513\u001b[0m     \u001b[0;32mdef\u001b[0m \u001b[0m_call_impl\u001b[0m\u001b[0;34m(\u001b[0m\u001b[0mself\u001b[0m\u001b[0;34m,\u001b[0m \u001b[0;34m*\u001b[0m\u001b[0margs\u001b[0m\u001b[0;34m,\u001b[0m \u001b[0;34m**\u001b[0m\u001b[0mkwargs\u001b[0m\u001b[0;34m)\u001b[0m\u001b[0;34m:\u001b[0m\u001b[0;34m\u001b[0m\u001b[0;34m\u001b[0m\u001b[0m\n",
            "\u001b[0;32m/usr/local/lib/python3.10/dist-packages/torch/nn/modules/module.py\u001b[0m in \u001b[0;36m_call_impl\u001b[0;34m(self, *args, **kwargs)\u001b[0m\n\u001b[1;32m   1518\u001b[0m                 \u001b[0;32mor\u001b[0m \u001b[0m_global_backward_pre_hooks\u001b[0m \u001b[0;32mor\u001b[0m \u001b[0m_global_backward_hooks\u001b[0m\u001b[0;34m\u001b[0m\u001b[0;34m\u001b[0m\u001b[0m\n\u001b[1;32m   1519\u001b[0m                 or _global_forward_hooks or _global_forward_pre_hooks):\n\u001b[0;32m-> 1520\u001b[0;31m             \u001b[0;32mreturn\u001b[0m \u001b[0mforward_call\u001b[0m\u001b[0;34m(\u001b[0m\u001b[0;34m*\u001b[0m\u001b[0margs\u001b[0m\u001b[0;34m,\u001b[0m \u001b[0;34m**\u001b[0m\u001b[0mkwargs\u001b[0m\u001b[0;34m)\u001b[0m\u001b[0;34m\u001b[0m\u001b[0;34m\u001b[0m\u001b[0m\n\u001b[0m\u001b[1;32m   1521\u001b[0m \u001b[0;34m\u001b[0m\u001b[0m\n\u001b[1;32m   1522\u001b[0m         \u001b[0;32mtry\u001b[0m\u001b[0;34m:\u001b[0m\u001b[0;34m\u001b[0m\u001b[0;34m\u001b[0m\u001b[0m\n",
            "\u001b[0;32m/usr/local/lib/python3.10/dist-packages/torch/nn/modules/linear.py\u001b[0m in \u001b[0;36mforward\u001b[0;34m(self, input)\u001b[0m\n\u001b[1;32m    114\u001b[0m \u001b[0;34m\u001b[0m\u001b[0m\n\u001b[1;32m    115\u001b[0m     \u001b[0;32mdef\u001b[0m \u001b[0mforward\u001b[0m\u001b[0;34m(\u001b[0m\u001b[0mself\u001b[0m\u001b[0;34m,\u001b[0m \u001b[0minput\u001b[0m\u001b[0;34m:\u001b[0m \u001b[0mTensor\u001b[0m\u001b[0;34m)\u001b[0m \u001b[0;34m->\u001b[0m \u001b[0mTensor\u001b[0m\u001b[0;34m:\u001b[0m\u001b[0;34m\u001b[0m\u001b[0;34m\u001b[0m\u001b[0m\n\u001b[0;32m--> 116\u001b[0;31m         \u001b[0;32mreturn\u001b[0m \u001b[0mF\u001b[0m\u001b[0;34m.\u001b[0m\u001b[0mlinear\u001b[0m\u001b[0;34m(\u001b[0m\u001b[0minput\u001b[0m\u001b[0;34m,\u001b[0m \u001b[0mself\u001b[0m\u001b[0;34m.\u001b[0m\u001b[0mweight\u001b[0m\u001b[0;34m,\u001b[0m \u001b[0mself\u001b[0m\u001b[0;34m.\u001b[0m\u001b[0mbias\u001b[0m\u001b[0;34m)\u001b[0m\u001b[0;34m\u001b[0m\u001b[0;34m\u001b[0m\u001b[0m\n\u001b[0m\u001b[1;32m    117\u001b[0m \u001b[0;34m\u001b[0m\u001b[0m\n\u001b[1;32m    118\u001b[0m     \u001b[0;32mdef\u001b[0m \u001b[0mextra_repr\u001b[0m\u001b[0;34m(\u001b[0m\u001b[0mself\u001b[0m\u001b[0;34m)\u001b[0m \u001b[0;34m->\u001b[0m \u001b[0mstr\u001b[0m\u001b[0;34m:\u001b[0m\u001b[0;34m\u001b[0m\u001b[0;34m\u001b[0m\u001b[0m\n",
            "\u001b[0;31mRuntimeError\u001b[0m: mat1 and mat2 shapes cannot be multiplied (1x80 and 100x32)"
          ]
        }
      ]
    },
    {
      "cell_type": "code",
      "source": [
        "import nltk\n",
        "\n",
        "# Tokenize your text into sentences\n",
        "sentences = nltk.tokenize.sent_tokenize(text)\n",
        "# Tokenize each sentence into words and convert to indexes.\n",
        "# We assume that the `token_to_idx` dict maps each token to its corresponding index\n",
        "indexed_sentences = []\n",
        "for sentence in sentences:\n",
        "    tokens = nltk.tokenize.word_tokenize(sentence)\n",
        "    indexed_tokens = [token_to_idx.get(token, token_to_idx['<UNK>']) for token in tokens] # use the index of '<UNK>' for unknown tokens\n",
        "    indexed_sentences.append(indexed_tokens)"
      ],
      "metadata": {
        "id": "8o--xCuaxz4A"
      },
      "execution_count": null,
      "outputs": []
    },
    {
      "cell_type": "code",
      "source": [
        "len(indexed_sentences)"
      ],
      "metadata": {
        "id": "z9RMyTUdywk4"
      },
      "execution_count": null,
      "outputs": []
    },
    {
      "cell_type": "code",
      "source": [
        "len(sentences)"
      ],
      "metadata": {
        "id": "g76mAHxUyyq3"
      },
      "execution_count": null,
      "outputs": []
    },
    {
      "cell_type": "code",
      "source": [
        "sentences[100]"
      ],
      "metadata": {
        "id": "Ld17QTIby1DY"
      },
      "execution_count": null,
      "outputs": []
    },
    {
      "cell_type": "code",
      "source": [
        "indexed_sentences[100]"
      ],
      "metadata": {
        "id": "j5F86CJ9y2ih"
      },
      "execution_count": null,
      "outputs": []
    },
    {
      "cell_type": "code",
      "source": [
        "from torch.nn.utils.rnn import pad_sequence\n",
        "from torch.utils.data import Dataset, DataLoader\n",
        "from torch.utils.data.dataset import random_split\n",
        "import torch\n",
        "import random\n",
        "\n",
        "class TextSequenceDataset(Dataset):\n",
        "    def __init__(self, data):\n",
        "        self.data = data\n",
        "\n",
        "    def __len__(self):\n",
        "        return len(self.data)\n",
        "\n",
        "    def __getitem__(self, idx):\n",
        "        return torch.tensor(self.data[idx][:-1]), torch.tensor(self.data[idx][1:])\n",
        "\n",
        "def collate_fn(batch):\n",
        "    inputs = [item[0] for item in batch]\n",
        "    targets = [item[1] for item in batch]\n",
        "\n",
        "    # Pad sequences in the same batch, pad_value defaults to 0\n",
        "    # However, this assumes that your tokenization process turns the padding element (usually \"<pad>\") into 0.\n",
        "    inputs = pad_sequence(inputs, batch_first=True, padding_value=token_to_idx[\"<PAD>\"])\n",
        "    targets = pad_sequence(targets, batch_first=True, padding_value=token_to_idx[\"<PAD>\"])\n",
        "\n",
        "    return inputs, targets\n",
        "\n",
        "# Assume `sentences` is a list of lists, where each inner list contains the indexes (tokens) of a sentence\n",
        "dataset = TextSequenceDataset(indexed_sentences)\n",
        "\n",
        "train_size = int(0.8 * len(dataset))\n",
        "test_size = len(dataset) - train_size\n",
        "\n",
        "train_dataset, test_dataset = random_split(dataset, [train_size, test_size])\n",
        "\n",
        "train_dataloader = DataLoader(train_dataset, batch_size=32, shuffle=True, collate_fn=collate_fn)\n",
        "test_dataloader = DataLoader(test_dataset, batch_size=32, shuffle=False, collate_fn=collate_fn)\n"
      ],
      "metadata": {
        "id": "4kZQUXCKy8oY"
      },
      "execution_count": null,
      "outputs": []
    },
    {
      "cell_type": "markdown",
      "source": [],
      "metadata": {
        "id": "G-NcaYWL0Jqq"
      }
    },
    {
      "cell_type": "code",
      "source": [
        "x, y = next(iter(test_dataloader))"
      ],
      "metadata": {
        "id": "tGe87qpn0CqM"
      },
      "execution_count": null,
      "outputs": []
    },
    {
      "cell_type": "code",
      "source": [
        "x.shape"
      ],
      "metadata": {
        "id": "GWH9RrJt0ErJ"
      },
      "execution_count": null,
      "outputs": []
    },
    {
      "cell_type": "code",
      "source": [
        "x[0]"
      ],
      "metadata": {
        "id": "usnqRve90Gjs"
      },
      "execution_count": null,
      "outputs": []
    },
    {
      "cell_type": "code",
      "source": [
        "class LSTMModel(nn.Module):\n",
        "    def __init__(self, vocab_size, embedding_dim, hidden_dim, num_layers, dropout_rate=0.5):\n",
        "        super(LSTMModel, self).__init__()\n",
        "        self.embedding = nn.Embedding(vocab_size, embedding_dim)\n",
        "        self.lstm = nn.LSTM(embedding_dim, hidden_dim, num_layers, batch_first=True, dropout=dropout_rate)\n",
        "        self.dropout = nn.Dropout(dropout_rate)\n",
        "        self.fc = nn.Linear(hidden_dim, vocab_size)\n",
        "\n",
        "    def forward(self, x):\n",
        "        x = self.embedding(x)\n",
        "        self.lstm.flatten_parameters()\n",
        "        out, (hidden, cell) = self.lstm(x)\n",
        "        out = self.dropout(out)\n",
        "        out = self.fc(out)\n",
        "        return out"
      ],
      "metadata": {
        "id": "whiNxgaO0N48"
      },
      "execution_count": null,
      "outputs": []
    },
    {
      "cell_type": "code",
      "source": [
        "VOCAB_SIZE = len(vocab)\n",
        "EMBEDDING_DIM = 100\n",
        "CONTEXT_SIZE = 5  # this is your n-gram size\n",
        "model = LSTMModel(VOCAB_SIZE+2, EMBEDDING_DIM, 50, 2)"
      ],
      "metadata": {
        "id": "jRjJJ_pp1XAT"
      },
      "execution_count": null,
      "outputs": []
    },
    {
      "cell_type": "code",
      "source": [
        "criterion = nn.NLLLoss()\n",
        "optimizer = torch.optim.AdamW(model.parameters(), lr=0.01, weight_decay=0.001)\n",
        "#optimizer = optim.SGD(model.parameters(), lr=0.001)\n",
        "\n",
        "device = torch.device('cuda' if torch.cuda.is_available() else 'cpu')\n",
        "model = model.to(device)"
      ],
      "metadata": {
        "id": "Q_EVlEKV1ZMU"
      },
      "execution_count": null,
      "outputs": []
    },
    {
      "cell_type": "code",
      "source": [
        "import torch.optim as optim\n",
        "\n",
        "criterion = nn.CrossEntropyLoss()\n",
        "optimizer = optim.Adam(model.parameters())\n",
        "min_val_loss = float('inf')\n",
        "patience = 10  # How many epochs with no improvement to validation loss to wait\n",
        "epochs_no_improve = 0\n",
        "\n",
        "\n",
        "num_epochs = 500\n",
        "train_losses = []\n",
        "test_losses = []\n",
        "\n",
        "def compute_loss(outputs, targets, pad_token_id):\n",
        "    criterion = nn.CrossEntropyLoss(reduction='none')\n",
        "    outputs = outputs.contiguous().view(-1, outputs.shape[-1]) # size becomes [32*39, 4721]\n",
        "    targets = targets.view(-1) # size becomes [32*39]\n",
        "\n",
        "    losses = criterion(outputs, targets)\n",
        "\n",
        "    mask = (targets != pad_token_id).float()  # mask size: (batch_size, seq_len)\n",
        "\n",
        "    losses = losses * mask  # Apply the mask to the loss\n",
        "\n",
        "    loss = losses.sum() / mask.sum()  # Calculate mean loss over non-padded tokens\n",
        "\n",
        "    return loss\n",
        "\n",
        "\n",
        "for epoch in range(num_epochs):\n",
        "    model.train()\n",
        "    train_loss = 0\n",
        "    for inputs, targets in train_dataloader:\n",
        "        inputs, targets = inputs.to(device), targets.to(device)\n",
        "\n",
        "        optimizer.zero_grad()\n",
        "\n",
        "        outputs = model(inputs)\n",
        "\n",
        "        # Compute the loss\n",
        "        loss = compute_loss(outputs, targets, VOCAB_SIZE+1)\n",
        "        loss.backward()\n",
        "\n",
        "        optimizer.step()\n",
        "\n",
        "        train_loss += loss.item()\n",
        "\n",
        "    train_losses.append(train_loss/len(train_dataloader))\n",
        "\n",
        "    model.eval()\n",
        "    test_loss = 0\n",
        "    with torch.no_grad():\n",
        "        for inputs, targets in test_dataloader:\n",
        "            inputs, targets = inputs.to(device), targets.to(device)\n",
        "            outputs = model(inputs)\n",
        "            loss = compute_loss(outputs, targets, VOCAB_SIZE+1)\n",
        "            test_loss += loss.item()\n",
        "    val_loss = test_loss/len(test_dataloader)\n",
        "    test_losses.append(val_loss)\n",
        "    print(f\"Epoch: {epoch}, Training Loss: {train_losses[-1]}, Test Loss: {test_losses[-1]}\")\n",
        "    if val_loss < min_val_loss:\n",
        "        min_val_loss = val_loss\n",
        "        epochs_no_improve = 0\n",
        "    else:\n",
        "        epochs_no_improve += 1\n",
        "        if epochs_no_improve == patience:\n",
        "          print('Early stopping!')\n",
        "          break\n",
        "\n",
        "\n"
      ],
      "metadata": {
        "id": "i0ubbL6r1bTc"
      },
      "execution_count": null,
      "outputs": []
    },
    {
      "cell_type": "code",
      "source": [
        "idx_to_token = {idx: token for idx, token in enumerate(vocab)}\n",
        "import numpy as np\n",
        "def generate_text(model, seed, max_length=100):\n",
        "    tokens = [token_to_idx[x] for x in nltk.tokenize.word_tokenize(seed)]\n",
        "    model.eval()  # switch the model to evaluation mode\n",
        "    seed = torch.tensor(tokens).unsqueeze(0)  # add batch dimension\n",
        "    generated = tokens\n",
        "\n",
        "    with torch.no_grad():  # so we don't do backpropagation during the generation phase\n",
        "        for _ in range(max_length):\n",
        "            output = model(seed.to(device))\n",
        "            #print(output.shape)\n",
        "            next_word_probability = nn.functional.softmax(output[0][-1], dim=0).cpu().numpy()  # use softmax to convert the output to probability distrubtion\n",
        "            #print(\"prob\", next_word_probability.shape)\n",
        "            next_word = np.random.choice(range(len(next_word_probability)), p=next_word_probability)\n",
        "            generated += [next_word]\n",
        "            seed = torch.cat((seed, torch.tensor([[next_word]])), 1)\n",
        "    print(generated)\n",
        "    return \" \".join([idx_to_token[x] for x in generated])\n"
      ],
      "metadata": {
        "id": "dxBFwrQ51eiw"
      },
      "execution_count": null,
      "outputs": []
    },
    {
      "cell_type": "code",
      "source": [
        "generate_text(model, \"Today is\")"
      ],
      "metadata": {
        "id": "bRhmlF34135c"
      },
      "execution_count": null,
      "outputs": []
    },
    {
      "cell_type": "code",
      "source": [],
      "metadata": {
        "id": "WAs4ppLN162k"
      },
      "execution_count": null,
      "outputs": []
    }
  ]
}