{
  "nbformat": 4,
  "nbformat_minor": 0,
  "metadata": {
    "colab": {
      "provenance": [],
      "authorship_tag": "ABX9TyPWuYaCuDk4cUdVkbYB9uQj",
      "include_colab_link": true
    },
    "kernelspec": {
      "name": "python3",
      "display_name": "Python 3"
    },
    "language_info": {
      "name": "python"
    }
  },
  "cells": [
    {
      "cell_type": "markdown",
      "metadata": {
        "id": "view-in-github",
        "colab_type": "text"
      },
      "source": [
        "<a href=\"https://colab.research.google.com/github/naidu199/LLM-workshop/blob/main/nuts_and_bolts_day_2.ipynb\" target=\"_parent\"><img src=\"https://colab.research.google.com/assets/colab-badge.svg\" alt=\"Open In Colab\"/></a>"
      ]
    },
    {
      "cell_type": "code",
      "execution_count": 19,
      "metadata": {
        "id": "cWUnUU9NYY9Z"
      },
      "outputs": [],
      "source": [
        "import torch\n",
        "import torch.nn as nn\n",
        "import torch.optim as optim\n",
        "from tqdm import tqdm\n",
        "\n"
      ]
    },
    {
      "cell_type": "code",
      "source": [
        "# Define the dataset\n",
        "X = torch.randn(10000, 10)\n",
        "y = torch.randint(0, 4, (10000,))  # Binary labels (0 or 1)\n"
      ],
      "metadata": {
        "id": "LRn2hY7mYpr2"
      },
      "execution_count": 20,
      "outputs": []
    },
    {
      "cell_type": "code",
      "source": [
        "X.shape"
      ],
      "metadata": {
        "colab": {
          "base_uri": "https://localhost:8080/"
        },
        "id": "zLSr5jOGYqLM",
        "outputId": "039c2b26-2ba8-47b8-bf48-9049a8d36653"
      },
      "execution_count": 21,
      "outputs": [
        {
          "output_type": "execute_result",
          "data": {
            "text/plain": [
              "torch.Size([10000, 10])"
            ]
          },
          "metadata": {},
          "execution_count": 21
        }
      ]
    },
    {
      "cell_type": "code",
      "source": [
        "\n",
        "\n",
        "\n",
        "\n",
        "# Define the network architecture\n",
        "input_size = 10\n",
        "hidden_size1 = 8\n",
        "hidden_size2 = 6\n",
        "output_size = 4\n",
        "\n",
        "# Define the model\n",
        "class Classifier(nn.Module):\n",
        "    def __init__(self, input_size, hidden_size1, hidden_size2, output_size):\n",
        "        super(Classifier, self).__init__()\n",
        "        self.fc1 = nn.Linear(input_size, hidden_size1)\n",
        "        self.fc2 = nn.Linear(hidden_size1, hidden_size2)\n",
        "        self.fc3 = nn.Linear(hidden_size2, output_size)\n",
        "        self.activation = nn.Softmax(dim=1)\n",
        "\n",
        "    def forward(self, x):\n",
        "        x = self.fc1(x)\n",
        "        x=self.fc2(x)\n",
        "        x = self.activation(self.fc3(x))\n",
        "        return x\n",
        "\n",
        "# Instantiate the model\n",
        "model = Classifier(input_size, hidden_size1, hidden_size2, output_size)\n",
        "\n",
        "\n",
        "criterion = nn.CrossEntropyLoss()\n",
        "optimizer = optim.Adam(model.parameters(), lr=0.01)\n",
        "\n",
        "# Train the model\n",
        "num_epochs = 1000\n",
        "for epoch in tqdm(range(num_epochs), desc='Progress Bar', colour=\"green\"):    # Forward pass\n",
        "    outputs = model(X)\n",
        "    loss = criterion(outputs, y)\n",
        "\n",
        "    # Backward and optimize\n",
        "    optimizer.zero_grad()\n",
        "    loss.backward()\n",
        "    optimizer.step()\n",
        "\n",
        "    if (epoch+1) % 100 == 0:\n",
        "        print(f'Epoch [{epoch+1}/{num_epochs}], Loss: {loss.item():.4f}')\n",
        "\n",
        "# Test the model\n",
        "with torch.no_grad():\n",
        "    outputs = model(X)\n",
        "    _, predicted = torch.max(outputs.data, 1)\n",
        "    print(f'Accuracy: {(predicted == y).sum().item()*100/len(y)}%')\n"
      ],
      "metadata": {
        "colab": {
          "base_uri": "https://localhost:8080/"
        },
        "id": "ri8TOzsNY5kG",
        "outputId": "1f2d210a-2949-4bea-d5a9-685515269941"
      },
      "execution_count": 22,
      "outputs": [
        {
          "output_type": "stream",
          "name": "stderr",
          "text": [
            "Progress Bar:  11%|\u001b[32m█         \u001b[0m| 110/1000 [00:00<00:07, 113.59it/s]"
          ]
        },
        {
          "output_type": "stream",
          "name": "stdout",
          "text": [
            "Epoch [100/1000], Loss: 1.3840\n"
          ]
        },
        {
          "output_type": "stream",
          "name": "stderr",
          "text": [
            "Progress Bar:  22%|\u001b[32m██▏       \u001b[0m| 216/1000 [00:01<00:07, 110.85it/s]"
          ]
        },
        {
          "output_type": "stream",
          "name": "stdout",
          "text": [
            "Epoch [200/1000], Loss: 1.3840\n"
          ]
        },
        {
          "output_type": "stream",
          "name": "stderr",
          "text": [
            "Progress Bar:  32%|\u001b[32m███▏      \u001b[0m| 318/1000 [00:02<00:06, 104.67it/s]"
          ]
        },
        {
          "output_type": "stream",
          "name": "stdout",
          "text": [
            "Epoch [300/1000], Loss: 1.3840\n"
          ]
        },
        {
          "output_type": "stream",
          "name": "stderr",
          "text": [
            "Progress Bar:  42%|\u001b[32m████▏     \u001b[0m| 418/1000 [00:03<00:04, 123.76it/s]"
          ]
        },
        {
          "output_type": "stream",
          "name": "stdout",
          "text": [
            "Epoch [400/1000], Loss: 1.3840\n"
          ]
        },
        {
          "output_type": "stream",
          "name": "stderr",
          "text": [
            "Progress Bar:  51%|\u001b[32m█████▏    \u001b[0m| 514/1000 [00:04<00:03, 130.56it/s]"
          ]
        },
        {
          "output_type": "stream",
          "name": "stdout",
          "text": [
            "Epoch [500/1000], Loss: 1.3840\n"
          ]
        },
        {
          "output_type": "stream",
          "name": "stderr",
          "text": [
            "Progress Bar:  62%|\u001b[32m██████▎   \u001b[0m| 625/1000 [00:05<00:02, 132.06it/s]"
          ]
        },
        {
          "output_type": "stream",
          "name": "stdout",
          "text": [
            "Epoch [600/1000], Loss: 1.3840\n"
          ]
        },
        {
          "output_type": "stream",
          "name": "stderr",
          "text": [
            "Progress Bar:  72%|\u001b[32m███████▏  \u001b[0m| 723/1000 [00:06<00:02, 132.63it/s]"
          ]
        },
        {
          "output_type": "stream",
          "name": "stdout",
          "text": [
            "Epoch [700/1000], Loss: 1.3840\n"
          ]
        },
        {
          "output_type": "stream",
          "name": "stderr",
          "text": [
            "Progress Bar:  82%|\u001b[32m████████▏ \u001b[0m| 821/1000 [00:06<00:01, 131.04it/s]"
          ]
        },
        {
          "output_type": "stream",
          "name": "stdout",
          "text": [
            "Epoch [800/1000], Loss: 1.3840\n"
          ]
        },
        {
          "output_type": "stream",
          "name": "stderr",
          "text": [
            "Progress Bar:  92%|\u001b[32m█████████▏\u001b[0m| 919/1000 [00:07<00:00, 134.58it/s]"
          ]
        },
        {
          "output_type": "stream",
          "name": "stdout",
          "text": [
            "Epoch [900/1000], Loss: 1.3840\n"
          ]
        },
        {
          "output_type": "stream",
          "name": "stderr",
          "text": [
            "Progress Bar: 100%|\u001b[32m██████████\u001b[0m| 1000/1000 [00:08<00:00, 123.29it/s]"
          ]
        },
        {
          "output_type": "stream",
          "name": "stdout",
          "text": [
            "Epoch [1000/1000], Loss: 1.3840\n",
            "Accuracy: 27.35%\n"
          ]
        },
        {
          "output_type": "stream",
          "name": "stderr",
          "text": [
            "\n"
          ]
        }
      ]
    },
    {
      "cell_type": "code",
      "source": [
        "import torch\n",
        "import torch.nn as nn\n",
        "import torch.optim as optim\n",
        "\n",
        "# Define the dataset\n",
        "X = torch.randn(100, 10)  # 100 samples, 10 features\n",
        "y = torch.randint(0, 2, (100,))  # Binary labels (0 or 1)\n",
        "\n",
        "# Define the model\n",
        "class TwoClassModel(nn.Module):\n",
        "    def __init__(self, input_size, output_size):\n",
        "        super().__init__()\n",
        "        self.linear = nn.Linear(input_size, output_size)\n",
        "\n",
        "    def forward(self, x):\n",
        "        logits = self.linear(x)\n",
        "        probabilities = torch.softmax(logits, dim=1)\n",
        "        return probabilities\n",
        "\n",
        "# Instantiate the model, loss function, and optimizer\n",
        "model = TwoClassModel(10, 2)\n",
        "criterion = nn.CrossEntropyLoss()\n",
        "optimizer = optim.Adam(model.parameters(), lr=0.001)\n",
        "\n",
        "# Train the model\n",
        "for epoch in range(100):\n",
        "    # Forward pass\n",
        "    outputs = model(X)\n",
        "    loss = criterion(outputs, y)\n",
        "\n",
        "    # Backward and optimize\n",
        "    optimizer.zero_grad()\n",
        "    loss.backward()\n",
        "    optimizer.step()\n",
        "\n",
        "    if (epoch+1) % 10 == 0:\n",
        "        print(f'Epoch [{epoch+1}/100], Loss: {loss.item():.4f}')\n",
        "\n",
        "# Evaluate the model\n",
        "with torch.no_grad():\n",
        "    outputs = model(X)\n",
        "    _, predicted = torch.max(outputs, 1)\n",
        "    accuracy = (predicted == y).float().mean()\n",
        "    print(f'Accuracy: {accuracy.item()*100:.2f}%')\n"
      ],
      "metadata": {
        "colab": {
          "base_uri": "https://localhost:8080/"
        },
        "id": "IijwZXgjamgN",
        "outputId": "349dfd9b-4fd4-42ad-ab62-7ae38593fe8d"
      },
      "execution_count": 23,
      "outputs": [
        {
          "output_type": "stream",
          "name": "stdout",
          "text": [
            "Epoch [10/100], Loss: 0.6857\n",
            "Epoch [20/100], Loss: 0.6815\n",
            "Epoch [30/100], Loss: 0.6775\n",
            "Epoch [40/100], Loss: 0.6737\n",
            "Epoch [50/100], Loss: 0.6700\n",
            "Epoch [60/100], Loss: 0.6666\n",
            "Epoch [70/100], Loss: 0.6634\n",
            "Epoch [80/100], Loss: 0.6604\n",
            "Epoch [90/100], Loss: 0.6577\n",
            "Epoch [100/100], Loss: 0.6552\n",
            "Accuracy: 66.00%\n"
          ]
        }
      ]
    },
    {
      "cell_type": "code",
      "source": [],
      "metadata": {
        "id": "sZw71qWJhQNC"
      },
      "execution_count": null,
      "outputs": []
    }
  ]
}