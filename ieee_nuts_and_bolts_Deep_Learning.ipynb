{
  "nbformat": 4,
  "nbformat_minor": 0,
  "metadata": {
    "colab": {
      "provenance": [],
      "authorship_tag": "ABX9TyN5y5ApQz1F0GHaRXdCb/Od",
      "include_colab_link": true
    },
    "kernelspec": {
      "name": "python3",
      "display_name": "Python 3"
    },
    "language_info": {
      "name": "python"
    }
  },
  "cells": [
    {
      "cell_type": "markdown",
      "metadata": {
        "id": "view-in-github",
        "colab_type": "text"
      },
      "source": [
        "<a href=\"https://colab.research.google.com/github/naidu199/LLM-workshop/blob/main/ieee_nuts_and_bolts_Deep_Learning.ipynb\" target=\"_parent\"><img src=\"https://colab.research.google.com/assets/colab-badge.svg\" alt=\"Open In Colab\"/></a>"
      ]
    },
    {
      "cell_type": "code",
      "execution_count": 19,
      "metadata": {
        "id": "nYN5q0E5Ajad"
      },
      "outputs": [],
      "source": [
        "import numpy as np"
      ]
    },
    {
      "cell_type": "code",
      "source": [
        "X=np.array([2,4,5,7,11,15])\n",
        "Y=np.array([-1,1,-1,1,-1,1])"
      ],
      "metadata": {
        "id": "B9873hIoAlM6"
      },
      "execution_count": 20,
      "outputs": []
    },
    {
      "cell_type": "code",
      "source": [
        "w=0\n",
        "b=0"
      ],
      "metadata": {
        "id": "XbcktlcNAxjo"
      },
      "execution_count": 21,
      "outputs": []
    },
    {
      "cell_type": "code",
      "source": [
        "for _ in range(25):\n",
        "  y_hat=np.sign(w*X+b)\n",
        "  correct=Y==y_hat\n",
        "  for i in range(len(X)):\n",
        "    w=w+(Y[i]-y_hat[i])*X[i]\n",
        "    b=b+(Y[i]-y_hat[i])\n",
        "  print(correct)\n",
        "  if(sum(correct)==5):\n",
        "    print(\"all are correct\")\n",
        "    print(correct)\n",
        "    break\n",
        "print(w)\n",
        "print(b)"
      ],
      "metadata": {
        "colab": {
          "base_uri": "https://localhost:8080/"
        },
        "id": "7R_nBw_mAzDw",
        "outputId": "3be11daa-2875-4221-ecc4-cf8fb0121f43"
      },
      "execution_count": 22,
      "outputs": [
        {
          "output_type": "stream",
          "name": "stdout",
          "text": [
            "[False False False False False False]\n",
            "[False  True False  True False  True]\n",
            "[ True False  True False  True False]\n",
            "[False  True False  True False  True]\n",
            "[ True False  True False  True False]\n",
            "[False  True False  True False  True]\n",
            "[False  True False  True False  True]\n",
            "[ True False  True False  True False]\n",
            "[False  True False  True False  True]\n",
            "[ True False  True False  True False]\n",
            "[False  True False  True False  True]\n",
            "[ True False  True False  True False]\n",
            "[False  True False  True False  True]\n",
            "[False  True False  True False  True]\n",
            "[ True False  True False  True False]\n",
            "[False  True False  True False  True]\n",
            "[ True False  True False  True False]\n",
            "[False  True False  True False  True]\n",
            "[False  True False  True False  True]\n",
            "[ True False  True False  True False]\n",
            "[False  True False  True False  True]\n",
            "[ True False  True False  True False]\n",
            "[False  True False  True False  True]\n",
            "[ True  True False  True False  True]\n",
            "[ True False  True False  True False]\n",
            "28\n",
            "-22\n"
          ]
        }
      ]
    },
    {
      "cell_type": "code",
      "source": [
        "import torch"
      ],
      "metadata": {
        "id": "_0kLfph5BKU_"
      },
      "execution_count": 23,
      "outputs": []
    },
    {
      "cell_type": "code",
      "source": [
        "!pip install torch -q\n"
      ],
      "metadata": {
        "colab": {
          "base_uri": "https://localhost:8080/"
        },
        "id": "0Sggb1jCO-T6",
        "outputId": "05bf0e45-5ee2-40cb-cd94-24bc16ccd58f"
      },
      "execution_count": 24,
      "outputs": [
        {
          "output_type": "stream",
          "name": "stdout",
          "text": [
            "\u001b[2K     \u001b[90m━━━━━━━━━━━━━━━━━━━━━━━━━━━━━━━━━━━━━━━━\u001b[0m \u001b[32m21.3/21.3 MB\u001b[0m \u001b[31m42.9 MB/s\u001b[0m eta \u001b[36m0:00:00\u001b[0m\n",
            "\u001b[?25h"
          ]
        }
      ]
    },
    {
      "cell_type": "code",
      "source": [
        "import torch\n",
        "import torch.nn as nn\n",
        "import torch.optim as optim\n",
        "\n",
        "# Prepare the data\n",
        "X = torch.tensor([[0.5], [1.2], [2.1], [2.9], [1.5]], dtype=torch.float32)\n",
        "y = torch.tensor([[0], [0], [1], [1], [1]], dtype=torch.float32)\n",
        "\n",
        "# Define the model\n",
        "model = nn.Linear(1, 1)\n",
        "\n",
        "# Define the loss function and optimizer\n",
        "criterion = nn.BCEWithLogitsLoss()\n",
        "optimizer = optim.SGD(model.parameters(), lr=0.1)\n",
        "\n",
        "# Train the model\n",
        "num_epochs = 1000\n",
        "for epoch in range(num_epochs):\n",
        "    # Forward pass\n",
        "    outputs = model(X)\n",
        "    loss = criterion(outputs, y)\n",
        "\n",
        "    # Backward and optimize\n",
        "    optimizer.zero_grad()\n",
        "    loss.backward()\n",
        "    optimizer.step()\n",
        "\n",
        "    if (epoch+1) % 100 == 0:\n",
        "        print(f'Epoch [{epoch+1}/{num_epochs}], Loss: {loss.item():.4f}')\n",
        "\n",
        "# Test the model\n",
        "with torch.no_grad():\n",
        "    predicted = (model(X) > 0.5).float()\n",
        "    accuracy = (predicted == y).float().mean()\n",
        "    print(f'Accuracy: {accuracy.item():.4f}')\n"
      ],
      "metadata": {
        "colab": {
          "base_uri": "https://localhost:8080/"
        },
        "id": "vxOmQoMgU3Vd",
        "outputId": "59071d40-6d2b-44ed-f80f-4ba3f6e83251"
      },
      "execution_count": 31,
      "outputs": [
        {
          "output_type": "stream",
          "name": "stdout",
          "text": [
            "Epoch [100/1000], Loss: 0.4686\n",
            "Epoch [200/1000], Loss: 0.3857\n",
            "Epoch [300/1000], Loss: 0.3363\n",
            "Epoch [400/1000], Loss: 0.3037\n",
            "Epoch [500/1000], Loss: 0.2806\n",
            "Epoch [600/1000], Loss: 0.2632\n",
            "Epoch [700/1000], Loss: 0.2496\n",
            "Epoch [800/1000], Loss: 0.2384\n",
            "Epoch [900/1000], Loss: 0.2291\n",
            "Epoch [1000/1000], Loss: 0.2212\n",
            "Accuracy: 1.0000\n"
          ]
        }
      ]
    },
    {
      "cell_type": "code",
      "source": [
        "import torch\n",
        "import torch.nn as nn\n",
        "import torch.optim as optim\n",
        "\n",
        "# Prepare the data\n",
        "X = torch.tensor([[0.5,5], [1.2,4], [2.1,3], [2.9,2], [0.5,1]], dtype=torch.float32)\n",
        "y = torch.tensor([[0], [0], [1], [1], [1]], dtype=torch.float32)\n",
        "\n",
        "# Define the model\n",
        "model = nn.Linear(2, 1)\n",
        "\n",
        "# Define the loss function and optimizer\n",
        "criterion = nn.BCEWithLogitsLoss()\n",
        "optimizer = optim.SGD(model.parameters(), lr=0.1)\n",
        "\n",
        "# Train the model\n",
        "num_epochs = 1000\n",
        "for epoch in range(num_epochs):\n",
        "    # Forward pass\n",
        "    outputs = model(X)\n",
        "    loss = criterion(outputs, y)\n",
        "\n",
        "    # Backward and optimize\n",
        "    optimizer.zero_grad()\n",
        "    loss.backward()\n",
        "    optimizer.step()\n",
        "\n",
        "    if (epoch+1) % 100 == 0:\n",
        "        print(f'Epoch [{epoch+1}/{num_epochs}], Loss: {loss.item():.4f}')\n",
        "\n",
        "# Test the model\n",
        "with torch.no_grad():\n",
        "    predicted = (model(X) > 0.5).float()\n",
        "    accuracy = (predicted == y).float().mean()\n",
        "    print(f'Accuracy: {accuracy.item():.4f}')\n"
      ],
      "metadata": {
        "colab": {
          "base_uri": "https://localhost:8080/"
        },
        "id": "eOXyiL6aU82d",
        "outputId": "e6b6bf71-4cf0-4188-b5ce-1dfeddfba580"
      },
      "execution_count": 29,
      "outputs": [
        {
          "output_type": "stream",
          "name": "stdout",
          "text": [
            "Epoch [100/1000], Loss: 0.1905\n",
            "Epoch [200/1000], Loss: 0.1322\n",
            "Epoch [300/1000], Loss: 0.1022\n",
            "Epoch [400/1000], Loss: 0.0834\n",
            "Epoch [500/1000], Loss: 0.0703\n",
            "Epoch [600/1000], Loss: 0.0608\n",
            "Epoch [700/1000], Loss: 0.0534\n",
            "Epoch [800/1000], Loss: 0.0477\n",
            "Epoch [900/1000], Loss: 0.0430\n",
            "Epoch [1000/1000], Loss: 0.0391\n",
            "Accuracy: 1.0000\n"
          ]
        }
      ]
    },
    {
      "cell_type": "code",
      "source": [],
      "metadata": {
        "id": "P7AkhVaCWIQX"
      },
      "execution_count": null,
      "outputs": []
    }
  ]
}