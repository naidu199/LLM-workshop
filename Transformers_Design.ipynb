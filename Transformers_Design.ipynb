{
  "nbformat": 4,
  "nbformat_minor": 0,
  "metadata": {
    "colab": {
      "provenance": [],
      "include_colab_link": true
    },
    "kernelspec": {
      "name": "python3",
      "display_name": "Python 3"
    },
    "language_info": {
      "name": "python"
    }
  },
  "cells": [
    {
      "cell_type": "markdown",
      "metadata": {
        "id": "view-in-github",
        "colab_type": "text"
      },
      "source": [
        "<a href=\"https://colab.research.google.com/github/naidu199/LLM-workshop/blob/main/Transformers_Design.ipynb\" target=\"_parent\"><img src=\"https://colab.research.google.com/assets/colab-badge.svg\" alt=\"Open In Colab\"/></a>"
      ]
    },
    {
      "cell_type": "code",
      "source": [
        "import torch\n",
        "import torch.nn as nn\n",
        "from torch.nn import functional as F"
      ],
      "metadata": {
        "id": "nRPBm0MJvAgP"
      },
      "execution_count": null,
      "outputs": []
    },
    {
      "cell_type": "code",
      "source": [
        "class Head(nn.Module):\n",
        "  def __init(self, emb_size: int, head_size: int, seq_size: int, dropout: int = 0.1):\n",
        "    super().__init__()\n",
        "    self.query = nn.Linear(emb_size, head_size, bias=False)\n",
        "    self.key = nn.Linear(emb_size, head_size, bias=False)\n",
        "    self.value = nn.Linear(emb_size, head_size, bias=False)\n",
        "    self.register_buffer('tril', torch.tril(torch.ones(seq_size, seq_size)))\n",
        "    self.dropout = nn.Dropout(dropout)\n",
        "\n",
        "  def forward(self, x): # shape of x: BxTxC\n",
        "    B, T, C = x.shape\n",
        "    k = self.key(x) # B, T, Hs\n",
        "    q = self.query(x) # B, T, Hs\n",
        "    w = q @ k.transpose(-2, -1) * k.shape[-1]**-0.5 # B, T, hs @ B, hs, T = B, T, T\n",
        "    w = w.masked_fill_(self.tril == 0, float('-inf')) # TODO: ensure that shapes match\n",
        "    w = F.softmax(w) # (B, T, T) TODO: ensure softmax is applied to the final weights for each batch\n",
        "    w = self.dropout(w)\n",
        "\n",
        "    v = self.value(x) # B, T, Hs\n",
        "    out = w @ v\n",
        "    return out\n"
      ],
      "metadata": {
        "id": "58SNHCf4vGrt"
      },
      "execution_count": null,
      "outputs": []
    },
    {
      "cell_type": "code",
      "source": [
        "class MultiHeadAttention(nn.Module):\n",
        "  def __init__(self, num_heads: int, emb_size: int, head_size: int, seq_size: int, dropout=0.1):\n",
        "    super().__init__()\n",
        "    self.heads = nn.ModuleList([Head(emb_size, head_size, seq_size, dropout) for _ in range(num_heads)])\n",
        "    self.proj = nn.Linear(emb_size, emb_size)\n",
        "    self.drouput = nn.Dropout(dropout)\n",
        "\n",
        "  def forward(self, x): # B T C\n",
        "    out = torch.cat([h(x) for h in self.heads], dim=-1) # B, T, C\n",
        "    out = self.drouput(self.proj(out))\n",
        "    return out\n",
        "\n",
        "\n",
        "class FeedForward(nn.Module):\n",
        "  \"\"\" a simple linear layer followed by a non-linearity \"\"\"\n",
        "  def __init__(self, emb_size, dropout = -1):\n",
        "      super().__init__()\n",
        "      self.net = nn.Sequential(\n",
        "          nn.Linear(emb_size, 4 * emb_size),\n",
        "          nn.ReLU(),\n",
        "          nn.Linear(4 * emb_size, emb_size),\n",
        "          nn.Dropout(dropout),\n",
        "      )\n",
        "\n",
        "  def forward(self, x):\n",
        "      return self.net(x)\n",
        "\n",
        "class Block(nn.Module):\n",
        "  def __init__(self, emb_size, num_heads, seq_size, dropout=0.1):\n",
        "    super.__init__()\n",
        "    assert emb_size%num_heads==0, \"embedding size is not a multiple of number of heads\"\n",
        "    head_size = emb_size // num_heads\n",
        "    self.mha = MultiHeadAttention(num_heads, emb_size, head_size, seq_size, dropout)\n",
        "    self.layer_norm1 = nn.LayerNorm([seq_size, emb_size])\n",
        "    self.layer_norm2 = nn.LayerNorm([seq_size, emb_size])\n",
        "    self.ff = FeedForward(emb_size, dropout)\n",
        "\n",
        "\n",
        "  def forward(self, x):\n",
        "    out = self.mha(x)\n",
        "    x = self.layer_norm1(x + out)\n",
        "    out = self.ff(x)\n",
        "    out = self.layer_norm2(x + out)\n",
        "\n",
        "class GPTModel(nn.Module):\n",
        "  def __init__(self, num_layers, vocab_size, emb_size, num_heads, seq_size, dropout):\n",
        "    super().__init__()\n",
        "    self.context_embedding = nn.Embedding(vocab_size, emb_size)\n",
        "    self.position_embedding = nn.Embedding(seq_size, emb_size)\n",
        "    self.blocks = nn.Sequential(*[Block(emb_size, num_heads, seq_size, dropout) for _ in range(num_layers)])\n",
        "    self.ln = nn.LayerNorm(emb_size) # TOdo check this\n",
        "    self.linear = nn.Linear(emb_size, vocab_size)\n",
        "\n",
        "  def forward(self, x, targets=None):\n",
        "    token_emb = self.context_embedding(x)\n",
        "    pos_emb = self.position_embedding(x)\n",
        "    x = token_emb + pos_emb\n",
        "    x = self.blocks(x)\n",
        "    x = self.ln(x)\n",
        "    logits = self.linear(x)\n",
        "\n",
        "    if targets is None:\n",
        "      loss = None\n",
        "    else:\n",
        "      B,T,C = logits.shape\n",
        "      logits = logits.view(B*T, C)\n",
        "      targets = targets.view(B*T)\n",
        "      loss = F.cross_entropy(logits, targets)\n",
        "\n",
        "    return logits, loss\n",
        "\n",
        "  def generate(self, inputs, max_new_tokens):\n",
        "    for _ in range(max_new_tokens):\n",
        "      # crop the imputs to the last seq_size tokens\n",
        "      inputs_trimmed = inputs[:, -self.seq_size:]\n",
        "\n",
        "      # get the predictions\n",
        "      logits, loss = self.forward(inputs_trimmed) # B, T, C\n",
        "\n",
        "      # focus only on the last time step\n",
        "      logits = logits[:, -1, :] # B, C\n",
        "\n",
        "      # probs by softmax\n",
        "      probs = F.softmax(logits, dim=-1) # B, C\n",
        "\n",
        "      # sample from the distribution\n",
        "      next_pred = torch.multinomial(probs, num_samples = 1)\n",
        "\n",
        "      # append sampled pred to the running sequence\n",
        "      inputs = torch.cat([inputs, next_pred], dim = 1)\n",
        "\n",
        "    return inputs\n",
        "\n"
      ],
      "metadata": {
        "id": "xZGpicouwayR"
      },
      "execution_count": null,
      "outputs": []
    },
    {
      "cell_type": "code",
      "source": [
        "model = GPTModel(5, ...) #TODO"
      ],
      "metadata": {
        "id": "m105Rw7yA0NH"
      },
      "execution_count": null,
      "outputs": []
    },
    {
      "cell_type": "code",
      "source": [
        "t = torch.rand(2,3)\n",
        "p = torch.rand(2,3)"
      ],
      "metadata": {
        "id": "e-7rxLGG3Eq2"
      },
      "execution_count": null,
      "outputs": []
    },
    {
      "cell_type": "code",
      "source": [
        "x = torch.cat([t, p], dim=-1)"
      ],
      "metadata": {
        "id": "_2HTacSz3Iia"
      },
      "execution_count": null,
      "outputs": []
    },
    {
      "cell_type": "code",
      "source": [
        "x.shape"
      ],
      "metadata": {
        "colab": {
          "base_uri": "https://localhost:8080/"
        },
        "id": "pFJx7Woa3P3F",
        "outputId": "3b2ef845-d9e3-47c4-8904-d679b6b6c4b3"
      },
      "execution_count": null,
      "outputs": [
        {
          "output_type": "execute_result",
          "data": {
            "text/plain": [
              "torch.Size([2, 6])"
            ]
          },
          "metadata": {},
          "execution_count": 9
        }
      ]
    },
    {
      "cell_type": "code",
      "source": [
        "s = lambda x, y: x+ y"
      ],
      "metadata": {
        "id": "9vOCS2aA3X00"
      },
      "execution_count": null,
      "outputs": []
    },
    {
      "cell_type": "code",
      "source": [
        "s(1, 2)"
      ],
      "metadata": {
        "colab": {
          "base_uri": "https://localhost:8080/"
        },
        "id": "2bhB0Y239XSw",
        "outputId": "09b35796-864c-4d9e-fec4-ba5fb6cc73d9"
      },
      "execution_count": null,
      "outputs": [
        {
          "output_type": "execute_result",
          "data": {
            "text/plain": [
              "3"
            ]
          },
          "metadata": {},
          "execution_count": 11
        }
      ]
    },
    {
      "cell_type": "code",
      "source": [
        "s(*[1,2])"
      ],
      "metadata": {
        "colab": {
          "base_uri": "https://localhost:8080/"
        },
        "id": "R0Fu4d-Q9ZUq",
        "outputId": "8bc639bc-c0d6-42ba-de76-b19176dd690e"
      },
      "execution_count": null,
      "outputs": [
        {
          "output_type": "execute_result",
          "data": {
            "text/plain": [
              "3"
            ]
          },
          "metadata": {},
          "execution_count": 12
        }
      ]
    },
    {
      "cell_type": "code",
      "source": [
        "import numpy as np\n",
        "\n",
        "def cosine_distance(vector1, vector2):\n",
        "    # Compute the dot product of the two vectors\n",
        "    dot_product = np.dot(vector1, vector2)\n",
        "\n",
        "    # Compute the L2 norm (magnitude) of each vector\n",
        "    norm_vector1 = np.linalg.norm(vector1)\n",
        "    norm_vector2 = np.linalg.norm(vector2)\n",
        "\n",
        "    # Compute the cosine distance\n",
        "    cos_dist = dot_product / (norm_vector1 * norm_vector2)\n",
        "\n",
        "    return cos_dist"
      ],
      "metadata": {
        "id": "F5vWzKvq9diS"
      },
      "execution_count": null,
      "outputs": []
    },
    {
      "cell_type": "code",
      "source": [
        "import math\n",
        "radian = lambda deg: (math.pi/180)*deg"
      ],
      "metadata": {
        "id": "4K8ANGiVCQwX"
      },
      "execution_count": null,
      "outputs": []
    },
    {
      "cell_type": "code",
      "source": [
        "all_clocks = [1, 2, 3, 4, 5, 6, 8, 9, 10, 12, 15, 18, 20, 24, 30, 36, 40, 45, 60, 72, 90, 120, 180, 360]"
      ],
      "metadata": {
        "id": "LTQopkECCUDj"
      },
      "execution_count": null,
      "outputs": []
    },
    {
      "cell_type": "code",
      "source": [
        "def posemb(number, clocks=[12, 10, 24]):\n",
        "    positions = []\n",
        "\n",
        "    for c in clocks:\n",
        "        # convert number (time) to degrees then convert to radians\n",
        "        degrees = (number%c) * (360/c)\n",
        "        rad = radian(degrees)\n",
        "        # append both the cosine and sine of the radian as they uniquely identify points on a circle\n",
        "        positions.append(math.cos(rad))\n",
        "        positions.append(math.sin(rad))\n",
        "\n",
        "    return np.array(positions)"
      ],
      "metadata": {
        "id": "l-AnZXJ_Cayc"
      },
      "execution_count": null,
      "outputs": []
    },
    {
      "cell_type": "code",
      "source": [
        "v = [posemb(x, all_clocks) for x in range(13)]"
      ],
      "metadata": {
        "id": "wSP9r8hxCtrR"
      },
      "execution_count": null,
      "outputs": []
    },
    {
      "cell_type": "code",
      "source": [
        "cos_dist_matrix = [[cosine_distance(vec_i, vec_j) for vec_j in v] for vec_i in v]"
      ],
      "metadata": {
        "id": "ewCAXgvRCxj2"
      },
      "execution_count": null,
      "outputs": []
    },
    {
      "cell_type": "code",
      "source": [
        "# Convert to a numpy array for better pretty printing\n",
        "cos_dist_matrix_np = np.array(cos_dist_matrix)\n",
        "\n",
        "# Set print options\n",
        "np.set_printoptions(precision=1, suppress=True)\n",
        "\n",
        "# Print the matrix\n",
        "print(cos_dist_matrix_np)"
      ],
      "metadata": {
        "id": "wLI8IT4jC0-u",
        "outputId": "9764d2ca-1b95-4c08-c007-8abd7164c0c0",
        "colab": {
          "base_uri": "https://localhost:8080/"
        }
      },
      "execution_count": null,
      "outputs": [
        {
          "output_type": "stream",
          "name": "stdout",
          "text": [
            "[[1.  0.7 0.5 0.4 0.4 0.2 0.3 0.1 0.2 0.2 0.2 0.1 0.2]\n",
            " [0.7 1.  0.7 0.5 0.4 0.4 0.2 0.3 0.1 0.2 0.2 0.2 0.1]\n",
            " [0.5 0.7 1.  0.7 0.5 0.4 0.4 0.2 0.3 0.1 0.2 0.2 0.2]\n",
            " [0.4 0.5 0.7 1.  0.7 0.5 0.4 0.4 0.2 0.3 0.1 0.2 0.2]\n",
            " [0.4 0.4 0.5 0.7 1.  0.7 0.5 0.4 0.4 0.2 0.3 0.1 0.2]\n",
            " [0.2 0.4 0.4 0.5 0.7 1.  0.7 0.5 0.4 0.4 0.2 0.3 0.1]\n",
            " [0.3 0.2 0.4 0.4 0.5 0.7 1.  0.7 0.5 0.4 0.4 0.2 0.3]\n",
            " [0.1 0.3 0.2 0.4 0.4 0.5 0.7 1.  0.7 0.5 0.4 0.4 0.2]\n",
            " [0.2 0.1 0.3 0.2 0.4 0.4 0.5 0.7 1.  0.7 0.5 0.4 0.4]\n",
            " [0.2 0.2 0.1 0.3 0.2 0.4 0.4 0.5 0.7 1.  0.7 0.5 0.4]\n",
            " [0.2 0.2 0.2 0.1 0.3 0.2 0.4 0.4 0.5 0.7 1.  0.7 0.5]\n",
            " [0.1 0.2 0.2 0.2 0.1 0.3 0.2 0.4 0.4 0.5 0.7 1.  0.7]\n",
            " [0.2 0.1 0.2 0.2 0.2 0.1 0.3 0.2 0.4 0.4 0.5 0.7 1. ]]\n"
          ]
        }
      ]
    },
    {
      "cell_type": "code",
      "source": [],
      "metadata": {
        "id": "LfyvafpoC3To"
      },
      "execution_count": null,
      "outputs": []
    }
  ]
}